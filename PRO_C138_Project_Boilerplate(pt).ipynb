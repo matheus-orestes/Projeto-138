{
  "cells": [
    {
      "cell_type": "code",
      "execution_count": null,
      "metadata": {
        "colab": {
          "base_uri": "https://localhost:8080/"
        },
        "id": "NrKUEP3cVa93",
        "outputId": "22b9e229-1ecf-4a25-e768-aa56869d9cb7"
      },
      "outputs": [
        {
          "name": "stdout",
          "output_type": "stream",
          "text": [
            "Requirement already satisfied: kaggle in /usr/local/lib/python3.7/dist-packages (1.5.12)\n",
            "Requirement already satisfied: tqdm in /usr/local/lib/python3.7/dist-packages (from kaggle) (4.63.0)\n",
            "Requirement already satisfied: requests in /usr/local/lib/python3.7/dist-packages (from kaggle) (2.23.0)\n",
            "Requirement already satisfied: urllib3 in /usr/local/lib/python3.7/dist-packages (from kaggle) (1.24.3)\n",
            "Requirement already satisfied: python-dateutil in /usr/local/lib/python3.7/dist-packages (from kaggle) (2.8.2)\n",
            "Requirement already satisfied: six>=1.10 in /usr/local/lib/python3.7/dist-packages (from kaggle) (1.15.0)\n",
            "Requirement already satisfied: certifi in /usr/local/lib/python3.7/dist-packages (from kaggle) (2021.10.8)\n",
            "Requirement already satisfied: python-slugify in /usr/local/lib/python3.7/dist-packages (from kaggle) (6.1.1)\n",
            "Requirement already satisfied: text-unidecode>=1.3 in /usr/local/lib/python3.7/dist-packages (from python-slugify->kaggle) (1.3)\n",
            "Requirement already satisfied: chardet<4,>=3.0.2 in /usr/local/lib/python3.7/dist-packages (from requests->kaggle) (3.0.4)\n",
            "Requirement already satisfied: idna<3,>=2.5 in /usr/local/lib/python3.7/dist-packages (from requests->kaggle) (2.10)\n"
          ]
        }
      ],
      "source": [
        "# instale o módulo kaggle\n",
        "!pip install kaggle"
      ]
    },
    {
      "cell_type": "code",
      "execution_count": null,
      "metadata": {
        "id": "DB5vl_C4Vzju"
      },
      "outputs": [],
      "source": [
        "# Carregue o arquivo kaggle.json\n",
        "load_kagle.json()"
      ]
    },
    {
      "cell_type": "code",
      "execution_count": null,
      "metadata": {
        "id": "76J5_KZrWKX_"
      },
      "outputs": [],
      "source": [
        "# Crie um diretório oculto, copie o kaggle.json para ele e altere o modo do arquivo\n",
        "print(\"Forma do dataframe de Credits:\", credits_df.shape)\n",
        "print(\"Forma do dataframe de Movies:\", movies_df.shape)"
      ]
    },
    {
      "cell_type": "code",
      "execution_count": null,
      "metadata": {
        "id": "XA2STvWYWydv"
      },
      "outputs": [],
      "source": [
        "# Baixe o conjunto de dados de artigos\n",
        "Dataframe Credits: (4803, 4)\n",
        "Dataframe Movies: (4803, 20)"
      ]
    },
    {
      "cell_type": "code",
      "execution_count": null,
      "metadata": {
        "id": "KlcT6RGAW11Z"
      },
      "outputs": [],
      "source": [
        "# Liste todos os arquivos do diretório de trabalho\n",
        "credits_df.rename(columns = { 'movie_id' : 'id' } , inplace = True)\n",
        "credits_df.head()"
      ]
    },
    {
      "cell_type": "code",
      "execution_count": null,
      "metadata": {
        "id": "v2W3d34xW7qD"
      },
      "outputs": [],
      "source": [
        "# Descompacte os arquivos baixados\n",
        "credits_df.rename(columns = { 'movie_id' : 'id' } , inplace = True)\n",
        "credits_df.head()"
      ]
    },
    {
      "cell_type": "code",
      "execution_count": null,
      "metadata": {
        "id": "4TSvIjQnXAcI"
      },
      "outputs": [],
      "source": [
        "# Crie o dataframe\n",
        "result_df = pd.merge(movies_df , credits_df , on = 'id')"
      ]
    },
    {
      "cell_type": "code",
      "execution_count": null,
      "metadata": {
        "id": "jB5RDqTJXUet"
      },
      "outputs": [],
      "source": [
        "# Imprima as primeiras 5 linhas do primeiro conjunto de dados\n",
        "result_df.shape"
      ]
    }
  ],
  "metadata": {
    "colab": {
      "collapsed_sections": [],
      "provenance": []
    },
    "kernelspec": {
      "display_name": "Python 3",
      "name": "python3"
    },
    "language_info": {
      "name": "python"
    }
  },
  "nbformat": 4,
  "nbformat_minor": 0
}
